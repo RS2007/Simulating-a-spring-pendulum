{
 "cells": [
  {
   "cell_type": "code",
   "execution_count": 34,
   "source": [
    "#animations in matplotlib\r\n",
    "import numpy as np\r\n",
    "import matplotlib.pyplot as plt\r\n",
    "from PIL import Image,ImageDraw\r\n",
    "from scipy.integrate import odeint"
   ],
   "outputs": [],
   "metadata": {}
  },
  {
   "cell_type": "markdown",
   "source": [
    "### Simulating a pendulum\r\n"
   ],
   "metadata": {}
  },
  {
   "cell_type": "code",
   "execution_count": 22,
   "source": [
    "#Initial condition for pendulum\r\n",
    "theta_init = np.pi/3\r\n",
    "omega_init = 0\r\n"
   ],
   "outputs": [],
   "metadata": {}
  },
  {
   "cell_type": "code",
   "execution_count": 28,
   "source": [
    "#drawing the pendulum\r\n",
    "def drawPendulum(theta,w=200,h=200,m=1,l=1):\r\n",
    "\timg = Image.new('RGB',(w,h),'white')\r\n",
    "\tL = int(0.4*h*l)\r\n",
    "\td = int(0.02*h)*m**(1/3)\r\n",
    "\tdraw = ImageDraw.Draw(img)\r\n",
    "\tx0 = int(w/2)\r\n",
    "\ty0 = int(h/2)\r\n",
    "\tx = x0+np.sin(theta)*L\r\n",
    "\ty = y0+np.cos(theta)*L\r\n",
    "\tdraw.line([(x0,y0),(x,y)],fill='black',width=1)\r\n",
    "\tdraw.ellipse([(x-d,y-d),(x+d,y+d)],fill='red',outline=None)\r\n",
    "\treturn img\r\n",
    "\t"
   ],
   "outputs": [],
   "metadata": {}
  },
  {
   "cell_type": "code",
   "execution_count": 30,
   "source": [
    "img = drawPendulum(theta_init)\r\n",
    "img.show()"
   ],
   "outputs": [],
   "metadata": {}
  },
  {
   "cell_type": "code",
   "execution_count": 32,
   "source": [
    "#physical constants\r\n",
    "g = 9.81\r\n",
    "l = 1"
   ],
   "outputs": [],
   "metadata": {}
  },
  {
   "cell_type": "code",
   "execution_count": 40,
   "source": [
    "#physics of the problem\r\n",
    "# theta of the pendulum is governed by the diff eq thetadotdot = (-g/l)*sin(theta)\r\n",
    "#break down as two coupled diff eq\r\n",
    "#\tomegadot = (-g/l)*sin(theta)\r\n",
    "#\tthetadot = omega\r\n",
    "\r\n",
    "def dSdt(S,t):\r\n",
    "\ttheta,omega = S\r\n",
    "\treturn [omega,(-g/l)*np.sin(theta)]\r\n",
    "S0 = [omega_init,theta_init]\r\n",
    "t = np.linspace(0,8,1000)\r\n",
    "sol = odeint(dSdt,S0,t)\r\n",
    "theta,omega = sol[:,0],sol[:,1]\r\n"
   ],
   "outputs": [],
   "metadata": {}
  },
  {
   "cell_type": "code",
   "execution_count": null,
   "source": [],
   "outputs": [],
   "metadata": {}
  }
 ],
 "metadata": {
  "orig_nbformat": 4,
  "language_info": {
   "name": "python",
   "version": "3.8.8",
   "mimetype": "text/x-python",
   "codemirror_mode": {
    "name": "ipython",
    "version": 3
   },
   "pygments_lexer": "ipython3",
   "nbconvert_exporter": "python",
   "file_extension": ".py"
  },
  "kernelspec": {
   "name": "python3",
   "display_name": "Python 3.8.8 64-bit ('base': conda)"
  },
  "interpreter": {
   "hash": "9008bc57c1bf64f47051072955dc85a5a65b9b46fd0b063d9558d4ac87cae1c1"
  }
 },
 "nbformat": 4,
 "nbformat_minor": 2
}