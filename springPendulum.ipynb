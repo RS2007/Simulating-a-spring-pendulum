{
 "cells": [
  {
   "cell_type": "code",
   "execution_count": null,
   "source": [
    "#building a spring pendulum\r\n",
    "\r\n",
    "\r\n",
    "#libraries\r\n",
    "import numpy as np\r\n",
    "from scipy.integrate import odeint\r\n",
    "import matplotlib.pyplot as plt\r\n",
    "\r\n"
   ],
   "outputs": [],
   "metadata": {}
  },
  {
   "cell_type": "code",
   "execution_count": null,
   "source": [
    "#constants\r\n",
    "l0 = 1\r\n",
    "m = 1\r\n",
    "k = 100\r\n",
    "g = 9.81\r\n"
   ],
   "outputs": [],
   "metadata": {}
  },
  {
   "cell_type": "code",
   "execution_count": null,
   "source": [],
   "outputs": [],
   "metadata": {}
  }
 ],
 "metadata": {
  "orig_nbformat": 4,
  "language_info": {
   "name": "python",
   "version": "3.8.8"
  },
  "kernelspec": {
   "name": "python3",
   "display_name": "Python 3.8.8 64-bit ('base': conda)"
  },
  "interpreter": {
   "hash": "9008bc57c1bf64f47051072955dc85a5a65b9b46fd0b063d9558d4ac87cae1c1"
  }
 },
 "nbformat": 4,
 "nbformat_minor": 2
}