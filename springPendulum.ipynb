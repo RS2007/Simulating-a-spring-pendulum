{
 "cells": [
  {
   "cell_type": "code",
   "execution_count": null,
   "source": [
    "#building a spring pendulum\r\n",
    "\r\n",
    "\r\n",
    "#libraries\r\n",
    "import numpy as np\r\n",
    "from scipy.integrate import odeint\r\n",
    "import matplotlib.pyplot as plt\r\n",
    "\r\n"
   ],
   "outputs": [],
   "metadata": {}
  }
 ],
 "metadata": {
  "orig_nbformat": 4,
  "language_info": {
   "name": "python"
  }
 },
 "nbformat": 4,
 "nbformat_minor": 2
}