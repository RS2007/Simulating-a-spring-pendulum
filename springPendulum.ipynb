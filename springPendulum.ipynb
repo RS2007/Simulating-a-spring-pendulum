{
 "cells": [
  {
   "cell_type": "code",
   "execution_count": 1,
   "source": [
    "#building a spring pendulum\r\n",
    "\r\n",
    "\r\n",
    "#libraries\r\n",
    "import numpy as np\r\n",
    "from scipy.integrate import odeint\r\n",
    "import matplotlib.pyplot as plt\r\n",
    "from PIL import Image,ImageDraw\r\n",
    "\r\n"
   ],
   "outputs": [],
   "metadata": {}
  },
  {
   "cell_type": "code",
   "execution_count": 41,
   "source": [
    "#constants\r\n",
    "k = 10\r\n",
    "g = 9.81\r\n",
    "l = 1\r\n",
    "m= 0.1\r\n"
   ],
   "outputs": [],
   "metadata": {}
  },
  {
   "cell_type": "code",
   "execution_count": 6,
   "source": [
    "#initial conditions\r\n",
    "theta_init = np.pi/3\r\n",
    "omega_init = 0"
   ],
   "outputs": [],
   "metadata": {}
  },
  {
   "cell_type": "code",
   "execution_count": 42,
   "source": [
    "#physics \r\n",
    "#\tFor the spring pendulum the equation of motion is obtained either by using polar coordinates and newtons second law OR the euler-lagrange equation can be used\r\n",
    "#\tvxdot - (l+x)(omega**2) - g*cos(theta) + (k/m)*x = 0\r\n",
    "#\tvx - xdot = 0\r\n",
    "#\t(l+x)*omegadot -2*vx*omega+g*sin(theta) = 0\r\n",
    "#   omega - thetadot = 0\r\n",
    "def dSdt(S,t):\r\n",
    "\tvx,x,omega,theta = S\r\n",
    "\treturn [(l+x)*(omega**2)+g*np.cos(theta)-(k/m)*x,vx,-(2*vx*omega)/(l+x)-(g*np.sin(theta))/(l+x),omega]\r\n",
    "S0 = [0,0,omega_init,theta_init]\r\n",
    "t = np.linspace(0,8,100)\r\n",
    "sol = odeint(dSdt,S0,t) \r\n",
    "vx,x,omega,theta = sol[:,0],sol[:,1],sol[:,2],sol[:,3]"
   ],
   "outputs": [],
   "metadata": {}
  },
  {
   "cell_type": "code",
   "execution_count": 39,
   "source": [
    "#drawing the spring pendulum\r\n",
    "def drawPendulum(theta,x,w=800,h=800,m=1,l=1):\r\n",
    "\timg = Image.new('RGB',(w,h),'white')\r\n",
    "\tL = int(0.4*h*(l+x))\r\n",
    "\td = int(0.02*h)*m**(1/3)\r\n",
    "\tdraw = ImageDraw.Draw(img)\r\n",
    "\tx0 = int(w/2)\r\n",
    "\ty0 = int(h/2)\r\n",
    "\tx = x0+np.sin(theta)*L\r\n",
    "\ty = y0+np.cos(theta)*L\r\n",
    "\tdraw.line([(x0,y0),(x,y)],fill='black',width=1)\r\n",
    "\tdraw.ellipse([(x-d,y-d),(x+d,y+d)],fill='red',outline=None)\r\n",
    "\treturn img"
   ],
   "outputs": [],
   "metadata": {}
  },
  {
   "cell_type": "code",
   "execution_count": 31,
   "source": [
    "img = drawPendulum(theta_init,0)\r\n",
    "img.show()"
   ],
   "outputs": [],
   "metadata": {}
  },
  {
   "cell_type": "code",
   "execution_count": 43,
   "source": [
    "frames = []\r\n",
    "for i in range(len(t)):\r\n",
    "\tnew_frame = drawPendulum(theta[i],x[i])\r\n",
    "\tframes.append(new_frame)\r\n",
    "\r\n",
    "frames[0].save('pendulum-spring.gif', format='GIF', append_images=frames[1:], save_all=True, duration=100, loop=0)"
   ],
   "outputs": [],
   "metadata": {}
  },
  {
   "cell_type": "code",
   "execution_count": null,
   "source": [],
   "outputs": [],
   "metadata": {}
  }
 ],
 "metadata": {
  "orig_nbformat": 4,
  "language_info": {
   "name": "python",
   "version": "3.8.8",
   "mimetype": "text/x-python",
   "codemirror_mode": {
    "name": "ipython",
    "version": 3
   },
   "pygments_lexer": "ipython3",
   "nbconvert_exporter": "python",
   "file_extension": ".py"
  },
  "kernelspec": {
   "name": "python3",
   "display_name": "Python 3.8.8 64-bit ('base': conda)"
  },
  "interpreter": {
   "hash": "9008bc57c1bf64f47051072955dc85a5a65b9b46fd0b063d9558d4ac87cae1c1"
  }
 },
 "nbformat": 4,
 "nbformat_minor": 2
}